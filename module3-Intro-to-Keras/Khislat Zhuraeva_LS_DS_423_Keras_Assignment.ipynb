{
 "cells": [
  {
   "cell_type": "markdown",
   "metadata": {
    "colab_type": "text",
    "id": "pBQsZEJmubLs"
   },
   "source": [
    "<img align=\"left\" src=\"https://lever-client-logos.s3.amazonaws.com/864372b1-534c-480e-acd5-9711f850815c-1524247202159.png\" width=200>\n",
    "<br></br>\n",
    "\n",
    "# Neural Network Framework (Keras)\n",
    "\n",
    "## *Data Science Unit 4 Sprint 2 Assignment 3*\n",
    "\n",
    "## Use the Keras Library to build a Multi-Layer Perceptron Model on the Boston Housing dataset\n",
    "\n",
    "- The Boston Housing dataset comes with the Keras library so use Keras to import it into your notebook. \n",
    "- Normalize the data (all features should have roughly the same scale)\n",
    "- Import the type of model and layers that you will need from Keras.\n",
    "- Instantiate a model object and use `model.add()` to add layers to your model\n",
    "- Since this is a regression model you will have a single output node in the final layer.\n",
    "- Use activation functions that are appropriate for this task\n",
    "- Compile your model\n",
    "- Fit your model and report its accuracy in terms of Mean Squared Error\n",
    "- Use the history object that is returned from model.fit to make graphs of the model's loss or train/validation accuracies by epoch. \n",
    "- Run this same data through a linear regression model. Which achieves higher accuracy?\n",
    "- Do a little bit of feature engineering and see how that affects your neural network model. (you will need to change your model to accept more inputs)\n",
    "- After feature engineering, which model sees a greater accuracy boost due to the new features?"
   ]
  },
  {
   "cell_type": "code",
   "execution_count": 33,
   "metadata": {
    "colab": {},
    "colab_type": "code",
    "id": "8NLTAR87uYJ-"
   },
   "outputs": [
    {
     "data": {
      "text/plain": [
       "15.2"
      ]
     },
     "execution_count": 33,
     "metadata": {},
     "output_type": "execute_result"
    }
   ],
   "source": [
    "# REGRESSION PROBLEM\n",
    "\n",
    "from tensorflow.keras.datasets import boston_housing\n",
    "\n",
    "(X_train, y_train), (X_test, y_test) = boston_housing.load_data() \n",
    "\n",
    "y_train[0] "
   ]
  },
  {
   "cell_type": "code",
   "execution_count": 34,
   "metadata": {},
   "outputs": [
    {
     "name": "stdout",
     "output_type": "stream",
     "text": [
      "The tensorboard extension is already loaded. To reload it, use:\n",
      "  %reload_ext tensorboard\n"
     ]
    }
   ],
   "source": [
    "%load_ext tensorboard\n",
    "\n",
    "import os\n",
    "import datetime\n",
    "import tensorflow as tf\n",
    "\n",
    "logdir = os.path.join(\"logs\", datetime.datetime.now().strftime(\"%Y%m%d-%H%M%S\")) # we save it in logs and name it as a date \n",
    "tensorboard_callback = tf.keras.callbacks.TensorBoard(logdir, histogram_freq=1)"
   ]
  },
  {
   "cell_type": "code",
   "execution_count": 35,
   "metadata": {},
   "outputs": [
    {
     "data": {
      "text/plain": [
       "(404, 13)"
      ]
     },
     "execution_count": 35,
     "metadata": {},
     "output_type": "execute_result"
    }
   ],
   "source": [
    "X_train.shape"
   ]
  },
  {
   "cell_type": "code",
   "execution_count": 36,
   "metadata": {},
   "outputs": [
    {
     "data": {
      "text/plain": [
       "array([-0.27224633, -0.48361547, -0.43576161, -0.25683275, -0.1652266 ,\n",
       "       -0.1764426 ,  0.81306188,  0.1166983 , -0.62624905, -0.59517003,\n",
       "        1.14850044,  0.44807713,  0.8252202 ])"
      ]
     },
     "execution_count": 36,
     "metadata": {},
     "output_type": "execute_result"
    }
   ],
   "source": [
    "import sklearn\n",
    "from sklearn.preprocessing import StandardScaler \n",
    "\n",
    "scaler = StandardScaler()\n",
    "\n",
    "# Fit the Scaler on a training dataset\n",
    "\n",
    "scaler.fit(X_train)\n",
    "\n",
    "# Then we tranform both training and testing data \n",
    "X_train_scaled = scaler.transform(X_train)\n",
    "X_test_scaled = scaler.transform(X_test)\n",
    "\n",
    "X_train_scaled[0]"
   ]
  },
  {
   "cell_type": "code",
   "execution_count": 37,
   "metadata": {},
   "outputs": [],
   "source": [
    "from tensorflow.keras.models import Sequential\n",
    "from tensorflow.keras.layers import Dense\n",
    "\n",
    "inputs = X_train.shape[1] # 13 because we have 13 features\n",
    "batch_size = 10\n",
    "\n",
    "model = Sequential([\n",
    "    Dense(8, activation='relu', input_shape=(inputs,)),\n",
    "    Dense(16, activation='relu'),\n",
    "    Dense(1)\n",
    "])"
   ]
  },
  {
   "cell_type": "code",
   "execution_count": 38,
   "metadata": {},
   "outputs": [
    {
     "name": "stdout",
     "output_type": "stream",
     "text": [
      "Train on 404 samples, validate on 102 samples\n",
      "Epoch 1/100\n",
      "404/404 [==============================] - 1s 2ms/sample - loss: 560.3870 - mse: 560.3870 - mae: 21.6096 - val_loss: 14642.7612 - val_mse: 14642.7627 - val_mae: 119.0295\n",
      "Epoch 2/100\n",
      "404/404 [==============================] - 0s 252us/sample - loss: 519.6246 - mse: 519.6246 - mae: 20.6177 - val_loss: 93932.1789 - val_mse: 93932.1797 - val_mae: 297.3792\n",
      "Epoch 3/100\n",
      "404/404 [==============================] - 0s 235us/sample - loss: 468.5193 - mse: 468.5193 - mae: 19.4205 - val_loss: 279870.6415 - val_mse: 279870.6562 - val_mae: 511.1938\n",
      "Epoch 4/100\n",
      "404/404 [==============================] - 0s 237us/sample - loss: 406.9685 - mse: 406.9684 - mae: 17.8989 - val_loss: 577003.1085 - val_mse: 577003.1250 - val_mae: 733.1036\n",
      "Epoch 5/100\n",
      "404/404 [==============================] - 0s 368us/sample - loss: 336.8341 - mse: 336.8341 - mae: 16.1321 - val_loss: 1052303.9118 - val_mse: 1052303.8750 - val_mae: 992.4198\n",
      "Epoch 6/100\n",
      "404/404 [==============================] - 0s 353us/sample - loss: 261.5613 - mse: 261.5613 - mae: 13.9860 - val_loss: 1713173.9069 - val_mse: 1713174.0000 - val_mae: 1270.4545\n",
      "Epoch 7/100\n",
      "404/404 [==============================] - 0s 247us/sample - loss: 187.3655 - mse: 187.3655 - mae: 11.5268 - val_loss: 2585783.4314 - val_mse: 2585783.7500 - val_mae: 1567.0005\n",
      "Epoch 8/100\n",
      "404/404 [==============================] - 0s 193us/sample - loss: 129.0173 - mse: 129.0173 - mae: 9.2960 - val_loss: 3610080.2941 - val_mse: 3610080.7500 - val_mae: 1858.3113\n",
      "Epoch 9/100\n",
      "404/404 [==============================] - 0s 230us/sample - loss: 93.6114 - mse: 93.6114 - mae: 7.7796 - val_loss: 4563472.7990 - val_mse: 4563473.5000 - val_mae: 2095.8518\n",
      "Epoch 10/100\n",
      "404/404 [==============================] - 0s 276us/sample - loss: 74.9405 - mse: 74.9405 - mae: 6.7724 - val_loss: 5096913.3284 - val_mse: 5096913.5000 - val_mae: 2219.5776\n",
      "Epoch 11/100\n",
      "404/404 [==============================] - 0s 232us/sample - loss: 62.3314 - mse: 62.3314 - mae: 6.0466 - val_loss: 5671910.8333 - val_mse: 5671911.5000 - val_mae: 2345.6399\n",
      "Epoch 12/100\n",
      "404/404 [==============================] - 0s 242us/sample - loss: 52.1080 - mse: 52.1081 - mae: 5.3966 - val_loss: 5996575.5784 - val_mse: 5996575.5000 - val_mae: 2415.4268\n",
      "Epoch 13/100\n",
      "404/404 [==============================] - 0s 281us/sample - loss: 44.8350 - mse: 44.8351 - mae: 4.8410 - val_loss: 6257708.7353 - val_mse: 6257708.5000 - val_mae: 2469.0916\n",
      "Epoch 14/100\n",
      "404/404 [==============================] - 0s 286us/sample - loss: 39.0821 - mse: 39.0821 - mae: 4.4353 - val_loss: 6693907.0196 - val_mse: 6693907.5000 - val_mae: 2554.0928\n",
      "Epoch 15/100\n",
      "404/404 [==============================] - 0s 232us/sample - loss: 35.1406 - mse: 35.1406 - mae: 4.1239 - val_loss: 7031489.3725 - val_mse: 7031489.5000 - val_mae: 2617.6819\n",
      "Epoch 16/100\n",
      "404/404 [==============================] - 0s 235us/sample - loss: 32.1393 - mse: 32.1393 - mae: 3.8797 - val_loss: 7481638.4020 - val_mse: 7481638.5000 - val_mae: 2700.1128\n",
      "Epoch 17/100\n",
      "404/404 [==============================] - 0s 237us/sample - loss: 29.7412 - mse: 29.7411 - mae: 3.6924 - val_loss: 7801573.7059 - val_mse: 7801573.5000 - val_mae: 2756.4695\n",
      "Epoch 18/100\n",
      "404/404 [==============================] - 0s 222us/sample - loss: 27.8280 - mse: 27.8280 - mae: 3.5544 - val_loss: 7947167.2059 - val_mse: 7947167.5000 - val_mae: 2781.7324\n",
      "Epoch 19/100\n",
      "404/404 [==============================] - 0s 227us/sample - loss: 26.0433 - mse: 26.0433 - mae: 3.4350 - val_loss: 8323223.5490 - val_mse: 8323223.0000 - val_mae: 2845.8054\n",
      "Epoch 20/100\n",
      "404/404 [==============================] - 0s 237us/sample - loss: 24.5868 - mse: 24.5868 - mae: 3.3275 - val_loss: 8403742.4902 - val_mse: 8403743.0000 - val_mae: 2857.7053\n",
      "Epoch 21/100\n",
      "404/404 [==============================] - 0s 244us/sample - loss: 23.2600 - mse: 23.2600 - mae: 3.2205 - val_loss: 8542165.9706 - val_mse: 8542166.0000 - val_mae: 2879.6226\n",
      "Epoch 22/100\n",
      "404/404 [==============================] - 0s 222us/sample - loss: 22.2194 - mse: 22.2194 - mae: 3.1275 - val_loss: 9055257.2255 - val_mse: 9055257.0000 - val_mae: 2963.6553\n",
      "Epoch 23/100\n",
      "404/404 [==============================] - 0s 230us/sample - loss: 21.3687 - mse: 21.3687 - mae: 3.1089 - val_loss: 9064669.8627 - val_mse: 9064670.0000 - val_mae: 2964.0593\n",
      "Epoch 24/100\n",
      "404/404 [==============================] - 0s 222us/sample - loss: 20.5153 - mse: 20.5153 - mae: 3.0217 - val_loss: 9424748.1765 - val_mse: 9424749.0000 - val_mae: 3020.5244\n",
      "Epoch 25/100\n",
      "404/404 [==============================] - 0s 207us/sample - loss: 19.7893 - mse: 19.7893 - mae: 3.0279 - val_loss: 9136104.9510 - val_mse: 9136105.0000 - val_mae: 2973.3718\n",
      "Epoch 26/100\n",
      "404/404 [==============================] - 0s 210us/sample - loss: 19.1139 - mse: 19.1139 - mae: 2.9223 - val_loss: 9391173.6373 - val_mse: 9391173.0000 - val_mae: 3012.3389\n",
      "Epoch 27/100\n",
      "404/404 [==============================] - 0s 244us/sample - loss: 18.4079 - mse: 18.4079 - mae: 2.9219 - val_loss: 9201687.5784 - val_mse: 9201687.0000 - val_mae: 2981.6743\n",
      "Epoch 28/100\n",
      "404/404 [==============================] - 0s 252us/sample - loss: 18.0021 - mse: 18.0021 - mae: 2.8606 - val_loss: 9132014.7353 - val_mse: 9132014.0000 - val_mae: 2968.5483\n",
      "Epoch 29/100\n",
      "404/404 [==============================] - 0s 242us/sample - loss: 17.4853 - mse: 17.4853 - mae: 2.8381 - val_loss: 9164529.6078 - val_mse: 9164530.0000 - val_mae: 2972.8594\n",
      "Epoch 30/100\n",
      "404/404 [==============================] - 0s 217us/sample - loss: 17.0116 - mse: 17.0116 - mae: 2.8240 - val_loss: 8896189.6569 - val_mse: 8896189.0000 - val_mae: 2927.8271\n",
      "Epoch 31/100\n",
      "404/404 [==============================] - 0s 239us/sample - loss: 16.6738 - mse: 16.6738 - mae: 2.7664 - val_loss: 8961815.3137 - val_mse: 8961815.0000 - val_mae: 2937.6794\n",
      "Epoch 32/100\n",
      "404/404 [==============================] - 0s 247us/sample - loss: 16.2468 - mse: 16.2468 - mae: 2.7560 - val_loss: 8979130.2745 - val_mse: 8979130.0000 - val_mae: 2938.7219\n",
      "Epoch 33/100\n",
      "404/404 [==============================] - 0s 264us/sample - loss: 15.9065 - mse: 15.9065 - mae: 2.7485 - val_loss: 8579739.2647 - val_mse: 8579739.0000 - val_mae: 2872.0195\n",
      "Epoch 34/100\n",
      "404/404 [==============================] - 0s 296us/sample - loss: 15.5605 - mse: 15.5605 - mae: 2.7108 - val_loss: 8716977.3039 - val_mse: 8716978.0000 - val_mae: 2894.6943\n",
      "Epoch 35/100\n",
      "404/404 [==============================] - 0s 279us/sample - loss: 15.4166 - mse: 15.4166 - mae: 2.6814 - val_loss: 8800835.7843 - val_mse: 8800836.0000 - val_mae: 2907.1248\n",
      "Epoch 36/100\n",
      "404/404 [==============================] - 0s 279us/sample - loss: 15.0679 - mse: 15.0679 - mae: 2.6985 - val_loss: 8493274.7255 - val_mse: 8493274.0000 - val_mae: 2855.0618\n",
      "Epoch 37/100\n",
      "404/404 [==============================] - 0s 230us/sample - loss: 14.7939 - mse: 14.7939 - mae: 2.6600 - val_loss: 8386069.0000 - val_mse: 8386068.0000 - val_mae: 2835.8806\n",
      "Epoch 38/100\n",
      "404/404 [==============================] - 0s 244us/sample - loss: 14.6161 - mse: 14.6161 - mae: 2.6702 - val_loss: 8325646.9902 - val_mse: 8325647.0000 - val_mae: 2826.8489\n",
      "Epoch 39/100\n",
      "404/404 [==============================] - 0s 227us/sample - loss: 14.5073 - mse: 14.5073 - mae: 2.6195 - val_loss: 8295531.2549 - val_mse: 8295531.5000 - val_mae: 2820.0610\n",
      "Epoch 40/100\n",
      "404/404 [==============================] - 0s 242us/sample - loss: 14.1564 - mse: 14.1564 - mae: 2.6015 - val_loss: 7817823.4118 - val_mse: 7817823.5000 - val_mae: 2735.4111\n",
      "Epoch 41/100\n",
      "404/404 [==============================] - 0s 217us/sample - loss: 14.1188 - mse: 14.1188 - mae: 2.6090 - val_loss: 7970695.8529 - val_mse: 7970695.0000 - val_mae: 2761.7070\n",
      "Epoch 42/100\n",
      "404/404 [==============================] - 0s 242us/sample - loss: 13.8538 - mse: 13.8538 - mae: 2.6011 - val_loss: 7631923.5392 - val_mse: 7631923.5000 - val_mae: 2701.8213\n",
      "Epoch 43/100\n",
      "404/404 [==============================] - 0s 274us/sample - loss: 13.7894 - mse: 13.7894 - mae: 2.5810 - val_loss: 7720352.0392 - val_mse: 7720352.0000 - val_mae: 2716.5469\n",
      "Epoch 44/100\n",
      "404/404 [==============================] - 0s 230us/sample - loss: 13.4760 - mse: 13.4760 - mae: 2.5755 - val_loss: 7563615.7157 - val_mse: 7563616.0000 - val_mae: 2688.2888\n",
      "Epoch 45/100\n",
      "404/404 [==============================] - 0s 207us/sample - loss: 13.3215 - mse: 13.3215 - mae: 2.5360 - val_loss: 7782490.4412 - val_mse: 7782491.0000 - val_mae: 2724.2725\n",
      "Epoch 46/100\n",
      "404/404 [==============================] - 0s 197us/sample - loss: 13.0985 - mse: 13.0985 - mae: 2.5742 - val_loss: 7326552.0098 - val_mse: 7326552.0000 - val_mae: 2643.3926\n",
      "Epoch 47/100\n",
      "404/404 [==============================] - 0s 212us/sample - loss: 13.1000 - mse: 13.1000 - mae: 2.5229 - val_loss: 7515214.1961 - val_mse: 7515214.5000 - val_mae: 2679.0747\n",
      "Epoch 48/100\n",
      "404/404 [==============================] - 0s 232us/sample - loss: 12.9419 - mse: 12.9419 - mae: 2.5375 - val_loss: 7268078.8824 - val_mse: 7268078.5000 - val_mae: 2634.3210\n",
      "Epoch 49/100\n",
      "404/404 [==============================] - 0s 264us/sample - loss: 12.9532 - mse: 12.9532 - mae: 2.5194 - val_loss: 7136294.4510 - val_mse: 7136294.5000 - val_mae: 2608.9275\n",
      "Epoch 50/100\n",
      "404/404 [==============================] - 0s 227us/sample - loss: 12.6726 - mse: 12.6726 - mae: 2.4901 - val_loss: 7003476.0392 - val_mse: 7003475.5000 - val_mae: 2583.4688\n",
      "Epoch 51/100\n",
      "404/404 [==============================] - 0s 235us/sample - loss: 12.5809 - mse: 12.5809 - mae: 2.4861 - val_loss: 7068654.8039 - val_mse: 7068655.0000 - val_mae: 2594.2539\n",
      "Epoch 52/100\n",
      "404/404 [==============================] - 0s 217us/sample - loss: 12.4718 - mse: 12.4718 - mae: 2.4976 - val_loss: 6920967.7941 - val_mse: 6920967.0000 - val_mae: 2567.9492\n",
      "Epoch 53/100\n",
      "404/404 [==============================] - 0s 212us/sample - loss: 12.3784 - mse: 12.3784 - mae: 2.4825 - val_loss: 6830365.2353 - val_mse: 6830365.5000 - val_mae: 2550.4937\n",
      "Epoch 54/100\n",
      "404/404 [==============================] - 0s 217us/sample - loss: 12.3088 - mse: 12.3088 - mae: 2.4714 - val_loss: 6718958.3529 - val_mse: 6718958.5000 - val_mae: 2528.0850\n",
      "Epoch 55/100\n",
      "404/404 [==============================] - 0s 235us/sample - loss: 12.1175 - mse: 12.1175 - mae: 2.4769 - val_loss: 6466726.7647 - val_mse: 6466727.0000 - val_mae: 2479.8943\n",
      "Epoch 56/100\n",
      "404/404 [==============================] - 0s 188us/sample - loss: 12.1711 - mse: 12.1711 - mae: 2.4586 - val_loss: 6407475.7941 - val_mse: 6407475.5000 - val_mae: 2467.8708\n",
      "Epoch 57/100\n",
      "404/404 [==============================] - 0s 202us/sample - loss: 11.9864 - mse: 11.9864 - mae: 2.4531 - val_loss: 6184505.5882 - val_mse: 6184505.5000 - val_mae: 2425.2256\n",
      "Epoch 58/100\n",
      "404/404 [==============================] - 0s 193us/sample - loss: 11.9973 - mse: 11.9973 - mae: 2.4390 - val_loss: 6173908.7647 - val_mse: 6173908.5000 - val_mae: 2421.9800\n",
      "Epoch 59/100\n",
      "404/404 [==============================] - 0s 215us/sample - loss: 11.7893 - mse: 11.7893 - mae: 2.4152 - val_loss: 6492626.2059 - val_mse: 6492626.0000 - val_mae: 2485.2451\n",
      "Epoch 60/100\n",
      "404/404 [==============================] - 0s 202us/sample - loss: 11.8253 - mse: 11.8253 - mae: 2.4324 - val_loss: 6165550.3431 - val_mse: 6165550.5000 - val_mae: 2420.3958\n",
      "Epoch 61/100\n",
      "404/404 [==============================] - 0s 242us/sample - loss: 11.6674 - mse: 11.6674 - mae: 2.4096 - val_loss: 6136367.7451 - val_mse: 6136368.5000 - val_mae: 2414.5457\n",
      "Epoch 62/100\n",
      "404/404 [==============================] - 0s 262us/sample - loss: 11.7008 - mse: 11.7008 - mae: 2.4071 - val_loss: 6001673.8431 - val_mse: 6001674.5000 - val_mae: 2386.6252\n",
      "Epoch 63/100\n",
      "404/404 [==============================] - 0s 232us/sample - loss: 11.6283 - mse: 11.6283 - mae: 2.4034 - val_loss: 5963807.5392 - val_mse: 5963807.5000 - val_mae: 2378.3184\n",
      "Epoch 64/100\n",
      "404/404 [==============================] - 0s 220us/sample - loss: 11.4641 - mse: 11.4641 - mae: 2.3940 - val_loss: 5998689.9804 - val_mse: 5998690.0000 - val_mae: 2385.9482\n",
      "Epoch 65/100\n",
      "404/404 [==============================] - 0s 212us/sample - loss: 11.5292 - mse: 11.5292 - mae: 2.4189 - val_loss: 5736679.9118 - val_mse: 5736680.0000 - val_mae: 2333.5884\n",
      "Epoch 66/100\n",
      "404/404 [==============================] - 0s 215us/sample - loss: 11.4071 - mse: 11.4071 - mae: 2.3873 - val_loss: 5328644.3431 - val_mse: 5328644.5000 - val_mae: 2248.6179\n",
      "Epoch 67/100\n",
      "404/404 [==============================] - 0s 254us/sample - loss: 11.3913 - mse: 11.3913 - mae: 2.3775 - val_loss: 5490034.5588 - val_mse: 5490035.0000 - val_mae: 2282.0242\n",
      "Epoch 68/100\n",
      "404/404 [==============================] - 0s 230us/sample - loss: 11.2058 - mse: 11.2058 - mae: 2.3713 - val_loss: 5162447.0049 - val_mse: 5162447.5000 - val_mae: 2213.1343\n",
      "Epoch 69/100\n",
      "404/404 [==============================] - 0s 193us/sample - loss: 11.2733 - mse: 11.2733 - mae: 2.3577 - val_loss: 5187870.5882 - val_mse: 5187870.5000 - val_mae: 2218.8560\n",
      "Epoch 70/100\n",
      "404/404 [==============================] - 0s 205us/sample - loss: 11.2186 - mse: 11.2186 - mae: 2.3712 - val_loss: 5083705.8725 - val_mse: 5083705.5000 - val_mae: 2195.8372\n",
      "Epoch 71/100\n",
      "404/404 [==============================] - 0s 225us/sample - loss: 11.1306 - mse: 11.1306 - mae: 2.3525 - val_loss: 5057558.0784 - val_mse: 5057557.5000 - val_mae: 2191.4509\n",
      "Epoch 72/100\n",
      "404/404 [==============================] - 0s 205us/sample - loss: 11.0386 - mse: 11.0386 - mae: 2.3450 - val_loss: 5034774.7647 - val_mse: 5034775.0000 - val_mae: 2184.1848\n",
      "Epoch 73/100\n",
      "404/404 [==============================] - 0s 247us/sample - loss: 11.0419 - mse: 11.0419 - mae: 2.3499 - val_loss: 4882554.5686 - val_mse: 4882554.5000 - val_mae: 2151.7383\n",
      "Epoch 74/100\n",
      "404/404 [==============================] - 0s 205us/sample - loss: 11.0113 - mse: 11.0113 - mae: 2.3404 - val_loss: 4806282.8235 - val_mse: 4806282.5000 - val_mae: 2134.0771\n",
      "Epoch 75/100\n",
      "404/404 [==============================] - 0s 220us/sample - loss: 10.8881 - mse: 10.8881 - mae: 2.3468 - val_loss: 4617473.2108 - val_mse: 4617473.5000 - val_mae: 2090.7341\n",
      "Epoch 76/100\n",
      "404/404 [==============================] - 0s 205us/sample - loss: 10.8106 - mse: 10.8106 - mae: 2.3237 - val_loss: 4368065.8725 - val_mse: 4368065.5000 - val_mae: 2034.7618\n",
      "Epoch 77/100\n",
      "404/404 [==============================] - 0s 218us/sample - loss: 10.8851 - mse: 10.8851 - mae: 2.3303 - val_loss: 4505215.6667 - val_mse: 4505215.5000 - val_mae: 2066.3374\n",
      "Epoch 78/100\n",
      "404/404 [==============================] - 0s 227us/sample - loss: 10.7891 - mse: 10.7891 - mae: 2.3228 - val_loss: 4520645.9020 - val_mse: 4520646.0000 - val_mae: 2068.9482\n",
      "Epoch 79/100\n",
      "404/404 [==============================] - 0s 235us/sample - loss: 10.6868 - mse: 10.6868 - mae: 2.3281 - val_loss: 4367005.5931 - val_mse: 4367006.0000 - val_mae: 2034.1935\n",
      "Epoch 80/100\n",
      "404/404 [==============================] - 0s 225us/sample - loss: 10.6657 - mse: 10.6657 - mae: 2.3091 - val_loss: 4242080.9853 - val_mse: 4242080.5000 - val_mae: 2005.7123\n",
      "Epoch 81/100\n",
      "404/404 [==============================] - 0s 244us/sample - loss: 10.6957 - mse: 10.6957 - mae: 2.3011 - val_loss: 4251531.5245 - val_mse: 4251531.5000 - val_mae: 2007.2825\n",
      "Epoch 82/100\n",
      "404/404 [==============================] - 0s 215us/sample - loss: 10.5816 - mse: 10.5816 - mae: 2.2843 - val_loss: 4193178.6716 - val_mse: 4193178.7500 - val_mae: 1994.3740\n",
      "Epoch 83/100\n",
      "404/404 [==============================] - 0s 222us/sample - loss: 10.5883 - mse: 10.5883 - mae: 2.3061 - val_loss: 4175755.5196 - val_mse: 4175755.5000 - val_mae: 1988.2710\n",
      "Epoch 84/100\n",
      "404/404 [==============================] - 0s 205us/sample - loss: 10.5258 - mse: 10.5258 - mae: 2.3005 - val_loss: 4024370.4902 - val_mse: 4024370.5000 - val_mae: 1952.0624\n",
      "Epoch 85/100\n",
      "404/404 [==============================] - 0s 227us/sample - loss: 10.5416 - mse: 10.5416 - mae: 2.2751 - val_loss: 3993726.1912 - val_mse: 3993726.0000 - val_mae: 1944.4475\n",
      "Epoch 86/100\n",
      "404/404 [==============================] - 0s 190us/sample - loss: 10.4332 - mse: 10.4332 - mae: 2.2857 - val_loss: 4066497.5833 - val_mse: 4066497.5000 - val_mae: 1963.1105\n",
      "Epoch 87/100\n",
      "404/404 [==============================] - 0s 197us/sample - loss: 10.4143 - mse: 10.4143 - mae: 2.2887 - val_loss: 3962250.2647 - val_mse: 3962250.2500 - val_mae: 1937.3712\n",
      "Epoch 88/100\n",
      "404/404 [==============================] - 0s 215us/sample - loss: 10.3867 - mse: 10.3867 - mae: 2.2587 - val_loss: 3987061.4804 - val_mse: 3987061.7500 - val_mae: 1943.6135\n",
      "Epoch 89/100\n",
      "404/404 [==============================] - 0s 202us/sample - loss: 10.3243 - mse: 10.3243 - mae: 2.2866 - val_loss: 3710951.7451 - val_mse: 3710951.5000 - val_mae: 1875.9169\n",
      "Epoch 90/100\n",
      "404/404 [==============================] - 0s 220us/sample - loss: 10.2825 - mse: 10.2825 - mae: 2.2620 - val_loss: 3760242.1324 - val_mse: 3760242.2500 - val_mae: 1888.9293\n",
      "Epoch 91/100\n",
      "404/404 [==============================] - 0s 215us/sample - loss: 10.3035 - mse: 10.3035 - mae: 2.2620 - val_loss: 3726930.5931 - val_mse: 3726930.5000 - val_mae: 1878.6089\n",
      "Epoch 92/100\n",
      "404/404 [==============================] - 0s 227us/sample - loss: 10.2281 - mse: 10.2281 - mae: 2.2690 - val_loss: 3654419.2598 - val_mse: 3654419.5000 - val_mae: 1862.3851\n",
      "Epoch 93/100\n",
      "404/404 [==============================] - 0s 195us/sample - loss: 10.2041 - mse: 10.2041 - mae: 2.2530 - val_loss: 3687946.0392 - val_mse: 3687946.2500 - val_mae: 1869.6118\n",
      "Epoch 94/100\n",
      "404/404 [==============================] - 0s 207us/sample - loss: 10.1598 - mse: 10.1598 - mae: 2.2397 - val_loss: 3711451.3382 - val_mse: 3711451.5000 - val_mae: 1876.5830\n",
      "Epoch 95/100\n",
      "404/404 [==============================] - 0s 220us/sample - loss: 10.1301 - mse: 10.1301 - mae: 2.2567 - val_loss: 3597994.2451 - val_mse: 3597994.0000 - val_mae: 1847.3105\n",
      "Epoch 96/100\n",
      "404/404 [==============================] - 0s 215us/sample - loss: 10.0686 - mse: 10.0686 - mae: 2.2355 - val_loss: 3533095.9902 - val_mse: 3533096.2500 - val_mae: 1828.8109\n",
      "Epoch 97/100\n",
      "404/404 [==============================] - 0s 239us/sample - loss: 10.0089 - mse: 10.0089 - mae: 2.2228 - val_loss: 3572861.3382 - val_mse: 3572861.2500 - val_mae: 1838.7054\n",
      "Epoch 98/100\n",
      "404/404 [==============================] - 0s 235us/sample - loss: 10.0372 - mse: 10.0372 - mae: 2.2421 - val_loss: 3448609.0588 - val_mse: 3448609.2500 - val_mae: 1807.2108\n",
      "Epoch 99/100\n",
      "404/404 [==============================] - 0s 225us/sample - loss: 9.9844 - mse: 9.9844 - mae: 2.2281 - val_loss: 3382211.6176 - val_mse: 3382211.7500 - val_mae: 1791.1688\n",
      "Epoch 100/100\n",
      "404/404 [==============================] - 0s 230us/sample - loss: 9.9349 - mse: 9.9349 - mae: 2.2318 - val_loss: 3298533.7206 - val_mse: 3298533.2500 - val_mae: 1768.9608\n"
     ]
    }
   ],
   "source": [
    "model.compile(loss='mse', optimizer='rmsprop', metrics=['mse', 'mae']) # we could also use optimizer='adam'\n",
    "\n",
    "history = model.fit(X_train_scaled, y_train, validation_data=(X_test, y_test), epochs=100, batch_size=batch_size, callbacks=[tensorboard_callback])\n",
    "# we could also do validation_split = 0.2 for example instead of validation_data"
   ]
  },
  {
   "cell_type": "code",
   "execution_count": 39,
   "metadata": {
    "scrolled": false
   },
   "outputs": [
    {
     "data": {
      "text/plain": [
       "Reusing TensorBoard on port 6006 (pid 3728), started 1 day, 13:27:13 ago. (Use '!kill 3728' to kill it.)"
      ]
     },
     "metadata": {},
     "output_type": "display_data"
    },
    {
     "data": {
      "text/html": [
       "\n",
       "      <iframe id=\"tensorboard-frame-62402bb4e582f630\" width=\"100%\" height=\"800\" frameborder=\"0\">\n",
       "      </iframe>\n",
       "      <script>\n",
       "        (function() {\n",
       "          const frame = document.getElementById(\"tensorboard-frame-62402bb4e582f630\");\n",
       "          const url = new URL(\"/\", window.location);\n",
       "          url.port = 6006;\n",
       "          frame.src = url;\n",
       "        })();\n",
       "      </script>\n",
       "  "
      ],
      "text/plain": [
       "<IPython.core.display.HTML object>"
      ]
     },
     "metadata": {},
     "output_type": "display_data"
    }
   ],
   "source": [
    "%tensorboard --logdir logs"
   ]
  },
  {
   "cell_type": "code",
   "execution_count": 40,
   "metadata": {},
   "outputs": [
    {
     "data": {
      "text/plain": [
       "TensorShape([None, 13])"
      ]
     },
     "execution_count": 40,
     "metadata": {},
     "output_type": "execute_result"
    }
   ],
   "source": [
    "# MULTIPLE INPUTS\n",
    "\n",
    "from tensorflow.keras.layers import Input\n",
    "from tensorflow.keras.layers import concatenate\n",
    "from tensorflow.keras.models import Model\n",
    "\n",
    "inputs = tf.keras.Input(shape=(13,))\n",
    "inputs.shape\n"
   ]
  },
  {
   "cell_type": "code",
   "execution_count": 41,
   "metadata": {},
   "outputs": [
    {
     "data": {
      "text/plain": [
       "<tf.Tensor 'dense_18/Identity:0' shape=(None, 8) dtype=float32>"
      ]
     },
     "execution_count": 41,
     "metadata": {},
     "output_type": "execute_result"
    }
   ],
   "source": [
    "dense = Dense(8, activation=\"relu\")\n",
    "x = dense(inputs)\n",
    "x"
   ]
  },
  {
   "cell_type": "code",
   "execution_count": 42,
   "metadata": {},
   "outputs": [
    {
     "data": {
      "text/plain": [
       "<tf.Tensor 'dense_20/Identity:0' shape=(None, 1) dtype=float32>"
      ]
     },
     "execution_count": 42,
     "metadata": {},
     "output_type": "execute_result"
    }
   ],
   "source": [
    "x = Dense(16, activation=\"relu\")(x)\n",
    "outputs = Dense(1)(x)\n",
    "outputs"
   ]
  },
  {
   "cell_type": "code",
   "execution_count": 19,
   "metadata": {},
   "outputs": [
    {
     "data": {
      "text/plain": [
       "<tensorflow.python.keras.engine.training.Model at 0x2100a603608>"
      ]
     },
     "execution_count": 19,
     "metadata": {},
     "output_type": "execute_result"
    }
   ],
   "source": [
    "model1 = tf.keras.Model(inputs=inputs, outputs=outputs, name=\"housing_model\")\n",
    "model1"
   ]
  },
  {
   "cell_type": "code",
   "execution_count": 43,
   "metadata": {},
   "outputs": [
    {
     "name": "stdout",
     "output_type": "stream",
     "text": [
      "Model: \"housing_model\"\n",
      "_________________________________________________________________\n",
      "Layer (type)                 Output Shape              Param #   \n",
      "=================================================================\n",
      "input_2 (InputLayer)         [(None, 13)]              0         \n",
      "_________________________________________________________________\n",
      "dense_6 (Dense)              (None, 8)                 112       \n",
      "_________________________________________________________________\n",
      "dense_7 (Dense)              (None, 16)                144       \n",
      "_________________________________________________________________\n",
      "dense_8 (Dense)              (None, 1)                 17        \n",
      "=================================================================\n",
      "Total params: 273\n",
      "Trainable params: 273\n",
      "Non-trainable params: 0\n",
      "_________________________________________________________________\n"
     ]
    }
   ],
   "source": [
    "model1.summary()"
   ]
  },
  {
   "cell_type": "code",
   "execution_count": 44,
   "metadata": {},
   "outputs": [
    {
     "name": "stdout",
     "output_type": "stream",
     "text": [
      "Train on 404 samples, validate on 102 samples\n",
      "Epoch 1/100\n",
      "404/404 [==============================] - 0s 237us/sample - loss: 9.9401 - mse: 9.9401 - mae: 2.2217 - val_loss: 3264654.7500 - val_mse: 3264654.7500 - val_mae: 1759.2559\n",
      "Epoch 2/100\n",
      "404/404 [==============================] - 0s 237us/sample - loss: 9.8646 - mse: 9.8646 - mae: 2.2194 - val_loss: 3223815.2941 - val_mse: 3223815.2500 - val_mae: 1747.9640\n",
      "Epoch 3/100\n",
      "404/404 [==============================] - 0s 210us/sample - loss: 9.8135 - mse: 9.8135 - mae: 2.2126 - val_loss: 3169349.0049 - val_mse: 3169349.2500 - val_mae: 1732.5120\n",
      "Epoch 4/100\n",
      "404/404 [==============================] - 0s 239us/sample - loss: 9.7530 - mse: 9.7530 - mae: 2.2042 - val_loss: 3209564.2304 - val_mse: 3209564.2500 - val_mae: 1745.1188\n",
      "Epoch 5/100\n",
      "404/404 [==============================] - 0s 215us/sample - loss: 9.7931 - mse: 9.7931 - mae: 2.2193 - val_loss: 3066583.8824 - val_mse: 3066583.7500 - val_mae: 1704.9329\n",
      "Epoch 6/100\n",
      "404/404 [==============================] - 0s 200us/sample - loss: 9.7012 - mse: 9.7012 - mae: 2.1905 - val_loss: 3140696.2843 - val_mse: 3140696.5000 - val_mae: 1723.1525\n",
      "Epoch 7/100\n",
      "404/404 [==============================] - 0s 230us/sample - loss: 9.7318 - mse: 9.7318 - mae: 2.2052 - val_loss: 3062441.8873 - val_mse: 3062441.7500 - val_mae: 1704.0443\n",
      "Epoch 8/100\n",
      "404/404 [==============================] - 0s 232us/sample - loss: 9.6248 - mse: 9.6248 - mae: 2.1777 - val_loss: 3085854.8431 - val_mse: 3085854.7500 - val_mae: 1710.8690\n",
      "Epoch 9/100\n",
      "404/404 [==============================] - 0s 269us/sample - loss: 9.6260 - mse: 9.6260 - mae: 2.1936 - val_loss: 2948531.3088 - val_mse: 2948531.2500 - val_mae: 1672.3491\n",
      "Epoch 10/100\n",
      "404/404 [==============================] - 0s 232us/sample - loss: 9.5914 - mse: 9.5914 - mae: 2.1823 - val_loss: 2921445.2941 - val_mse: 2921445.2500 - val_mae: 1665.4824\n",
      "Epoch 11/100\n",
      "404/404 [==============================] - 0s 269us/sample - loss: 9.5068 - mse: 9.5068 - mae: 2.1893 - val_loss: 2863696.9951 - val_mse: 2863697.0000 - val_mae: 1647.1987\n",
      "Epoch 12/100\n",
      "404/404 [==============================] - 0s 242us/sample - loss: 9.4783 - mse: 9.4783 - mae: 2.1631 - val_loss: 2866650.4559 - val_mse: 2866650.7500 - val_mae: 1650.8003\n",
      "Epoch 13/100\n",
      "404/404 [==============================] - 0s 232us/sample - loss: 9.5051 - mse: 9.5051 - mae: 2.1748 - val_loss: 2751452.8382 - val_mse: 2751452.5000 - val_mae: 1615.1636\n",
      "Epoch 14/100\n",
      "404/404 [==============================] - 0s 230us/sample - loss: 9.4593 - mse: 9.4593 - mae: 2.1699 - val_loss: 2752851.0931 - val_mse: 2752850.7500 - val_mae: 1615.4958\n",
      "Epoch 15/100\n",
      "404/404 [==============================] - 0s 225us/sample - loss: 9.4510 - mse: 9.4510 - mae: 2.1678 - val_loss: 2744568.0515 - val_mse: 2744568.2500 - val_mae: 1612.1587\n",
      "Epoch 16/100\n",
      "404/404 [==============================] - 0s 212us/sample - loss: 9.4585 - mse: 9.4585 - mae: 2.1683 - val_loss: 2689760.8897 - val_mse: 2689761.0000 - val_mae: 1596.3060\n",
      "Epoch 17/100\n",
      "404/404 [==============================] - 0s 210us/sample - loss: 9.3438 - mse: 9.3438 - mae: 2.1569 - val_loss: 2634690.5735 - val_mse: 2634690.5000 - val_mae: 1578.9448\n",
      "Epoch 18/100\n",
      "404/404 [==============================] - 0s 212us/sample - loss: 9.3613 - mse: 9.3613 - mae: 2.1649 - val_loss: 2702879.9216 - val_mse: 2702879.7500 - val_mae: 1599.6599\n",
      "Epoch 19/100\n",
      "404/404 [==============================] - 0s 195us/sample - loss: 9.3741 - mse: 9.3741 - mae: 2.1517 - val_loss: 2611127.2353 - val_mse: 2611127.2500 - val_mae: 1571.9487\n",
      "Epoch 20/100\n",
      "404/404 [==============================] - 0s 217us/sample - loss: 9.3623 - mse: 9.3623 - mae: 2.1541 - val_loss: 2637318.4412 - val_mse: 2637318.5000 - val_mae: 1579.1598\n",
      "Epoch 21/100\n",
      "404/404 [==============================] - 0s 257us/sample - loss: 9.2588 - mse: 9.2588 - mae: 2.1429 - val_loss: 2589922.3922 - val_mse: 2589922.5000 - val_mae: 1565.2085\n",
      "Epoch 22/100\n",
      "404/404 [==============================] - 0s 193us/sample - loss: 9.2518 - mse: 9.2518 - mae: 2.1223 - val_loss: 2672190.4265 - val_mse: 2672190.5000 - val_mae: 1589.7972\n",
      "Epoch 23/100\n",
      "404/404 [==============================] - 0s 215us/sample - loss: 9.2163 - mse: 9.2163 - mae: 2.1363 - val_loss: 2617816.6275 - val_mse: 2617816.7500 - val_mae: 1573.2294\n",
      "Epoch 24/100\n",
      "404/404 [==============================] - 0s 217us/sample - loss: 9.1805 - mse: 9.1805 - mae: 2.1340 - val_loss: 2541303.7647 - val_mse: 2541303.7500 - val_mae: 1551.2543\n",
      "Epoch 25/100\n",
      "404/404 [==============================] - 0s 239us/sample - loss: 9.2047 - mse: 9.2047 - mae: 2.1271 - val_loss: 2519071.4853 - val_mse: 2519071.5000 - val_mae: 1543.6278\n",
      "Epoch 26/100\n",
      "404/404 [==============================] - 0s 225us/sample - loss: 9.1535 - mse: 9.1535 - mae: 2.1396 - val_loss: 2526133.8775 - val_mse: 2526134.0000 - val_mae: 1545.9176\n",
      "Epoch 27/100\n",
      "404/404 [==============================] - 0s 220us/sample - loss: 9.0518 - mse: 9.0518 - mae: 2.1144 - val_loss: 2475927.1495 - val_mse: 2475927.2500 - val_mae: 1531.2416\n",
      "Epoch 28/100\n",
      "404/404 [==============================] - 0s 225us/sample - loss: 9.0887 - mse: 9.0887 - mae: 2.1077 - val_loss: 2534459.0490 - val_mse: 2534458.7500 - val_mae: 1549.9669\n",
      "Epoch 29/100\n",
      "404/404 [==============================] - 0s 210us/sample - loss: 8.9566 - mse: 8.9566 - mae: 2.1288 - val_loss: 2396444.4828 - val_mse: 2396444.5000 - val_mae: 1507.2721\n",
      "Epoch 30/100\n",
      "404/404 [==============================] - 0s 222us/sample - loss: 9.0631 - mse: 9.0631 - mae: 2.1243 - val_loss: 2482624.6005 - val_mse: 2482624.2500 - val_mae: 1533.6044\n",
      "Epoch 31/100\n",
      "404/404 [==============================] - 0s 227us/sample - loss: 8.9714 - mse: 8.9714 - mae: 2.1164 - val_loss: 2469198.0637 - val_mse: 2469198.0000 - val_mae: 1529.4327\n",
      "Epoch 32/100\n",
      "404/404 [==============================] - 0s 222us/sample - loss: 8.8566 - mse: 8.8566 - mae: 2.0898 - val_loss: 2473284.6005 - val_mse: 2473284.5000 - val_mae: 1529.5242\n",
      "Epoch 33/100\n",
      "404/404 [==============================] - 0s 269us/sample - loss: 8.9349 - mse: 8.9349 - mae: 2.1155 - val_loss: 2500560.1446 - val_mse: 2500560.2500 - val_mae: 1539.5402\n",
      "Epoch 34/100\n",
      "404/404 [==============================] - 0s 190us/sample - loss: 8.9247 - mse: 8.9247 - mae: 2.1106 - val_loss: 2511430.6324 - val_mse: 2511430.5000 - val_mae: 1544.2360\n",
      "Epoch 35/100\n",
      "404/404 [==============================] - 0s 215us/sample - loss: 8.9242 - mse: 8.9242 - mae: 2.1117 - val_loss: 2479713.9265 - val_mse: 2479714.0000 - val_mae: 1532.4944\n",
      "Epoch 36/100\n",
      "404/404 [==============================] - 0s 212us/sample - loss: 8.8451 - mse: 8.8451 - mae: 2.1104 - val_loss: 2365930.6887 - val_mse: 2365930.7500 - val_mae: 1497.8730\n",
      "Epoch 37/100\n",
      "404/404 [==============================] - 0s 195us/sample - loss: 8.7913 - mse: 8.7913 - mae: 2.0905 - val_loss: 2412262.2990 - val_mse: 2412262.2500 - val_mae: 1511.9266\n",
      "Epoch 38/100\n",
      "404/404 [==============================] - 0s 217us/sample - loss: 8.8254 - mse: 8.8254 - mae: 2.0761 - val_loss: 2428896.0980 - val_mse: 2428896.2500 - val_mae: 1516.5044\n",
      "Epoch 39/100\n",
      "404/404 [==============================] - 0s 230us/sample - loss: 8.8505 - mse: 8.8505 - mae: 2.0953 - val_loss: 2407464.8431 - val_mse: 2407464.7500 - val_mae: 1510.1771\n",
      "Epoch 40/100\n",
      "404/404 [==============================] - 0s 210us/sample - loss: 8.7607 - mse: 8.7607 - mae: 2.0862 - val_loss: 2387422.3162 - val_mse: 2387422.5000 - val_mae: 1505.4740\n",
      "Epoch 41/100\n",
      "404/404 [==============================] - 0s 195us/sample - loss: 8.6895 - mse: 8.6895 - mae: 2.0726 - val_loss: 2314933.4755 - val_mse: 2314933.5000 - val_mae: 1482.9000\n",
      "Epoch 42/100\n",
      "404/404 [==============================] - 0s 185us/sample - loss: 8.7047 - mse: 8.7047 - mae: 2.0598 - val_loss: 2412326.6814 - val_mse: 2412326.5000 - val_mae: 1512.9855\n",
      "Epoch 43/100\n",
      "404/404 [==============================] - 0s 200us/sample - loss: 8.6492 - mse: 8.6491 - mae: 2.0725 - val_loss: 2288418.2794 - val_mse: 2288418.0000 - val_mae: 1473.5553\n",
      "Epoch 44/100\n",
      "404/404 [==============================] - 0s 242us/sample - loss: 8.6721 - mse: 8.6721 - mae: 2.0695 - val_loss: 2363982.0417 - val_mse: 2363982.0000 - val_mae: 1496.9327\n",
      "Epoch 45/100\n",
      "404/404 [==============================] - 0s 254us/sample - loss: 8.7436 - mse: 8.7436 - mae: 2.0762 - val_loss: 2363353.9191 - val_mse: 2363354.0000 - val_mae: 1495.9602\n",
      "Epoch 46/100\n",
      "404/404 [==============================] - 0s 220us/sample - loss: 8.6229 - mse: 8.6229 - mae: 2.0699 - val_loss: 2332903.8113 - val_mse: 2332903.7500 - val_mae: 1487.4150\n",
      "Epoch 47/100\n",
      "404/404 [==============================] - 0s 200us/sample - loss: 8.6075 - mse: 8.6075 - mae: 2.0667 - val_loss: 2289381.3480 - val_mse: 2289381.2500 - val_mae: 1474.1010\n",
      "Epoch 48/100\n",
      "404/404 [==============================] - 0s 212us/sample - loss: 8.6066 - mse: 8.6066 - mae: 2.0531 - val_loss: 2291824.3578 - val_mse: 2291824.5000 - val_mae: 1473.7343\n",
      "Epoch 49/100\n",
      "404/404 [==============================] - 0s 200us/sample - loss: 8.5515 - mse: 8.5515 - mae: 2.0595 - val_loss: 2256652.2353 - val_mse: 2256652.5000 - val_mae: 1462.8749\n",
      "Epoch 50/100\n",
      "404/404 [==============================] - 0s 237us/sample - loss: 8.5295 - mse: 8.5295 - mae: 2.0496 - val_loss: 2232720.7255 - val_mse: 2232720.7500 - val_mae: 1455.4197\n",
      "Epoch 51/100\n",
      "404/404 [==============================] - 0s 205us/sample - loss: 8.4589 - mse: 8.4589 - mae: 2.0611 - val_loss: 2233974.8897 - val_mse: 2233975.0000 - val_mae: 1455.1244\n",
      "Epoch 52/100\n",
      "404/404 [==============================] - 0s 232us/sample - loss: 8.5121 - mse: 8.5121 - mae: 2.0440 - val_loss: 2299726.6838 - val_mse: 2299726.7500 - val_mae: 1476.2478\n",
      "Epoch 53/100\n",
      "404/404 [==============================] - 0s 185us/sample - loss: 8.4491 - mse: 8.4491 - mae: 2.0578 - val_loss: 2305186.4681 - val_mse: 2305186.2500 - val_mae: 1477.6790\n",
      "Epoch 54/100\n",
      "404/404 [==============================] - 0s 193us/sample - loss: 8.4996 - mse: 8.4996 - mae: 2.0548 - val_loss: 2269138.9877 - val_mse: 2269139.0000 - val_mae: 1465.9329\n",
      "Epoch 55/100\n",
      "404/404 [==============================] - 0s 205us/sample - loss: 8.4534 - mse: 8.4534 - mae: 2.0473 - val_loss: 2272755.6961 - val_mse: 2272755.7500 - val_mae: 1467.0903\n",
      "Epoch 56/100\n",
      "404/404 [==============================] - 0s 185us/sample - loss: 8.3527 - mse: 8.3527 - mae: 2.0324 - val_loss: 2250596.9853 - val_mse: 2250596.7500 - val_mae: 1459.6981\n",
      "Epoch 57/100\n",
      "404/404 [==============================] - 0s 185us/sample - loss: 8.3596 - mse: 8.3596 - mae: 2.0359 - val_loss: 2275346.8652 - val_mse: 2275346.7500 - val_mae: 1468.7863\n",
      "Epoch 58/100\n",
      "404/404 [==============================] - 0s 254us/sample - loss: 8.3848 - mse: 8.3848 - mae: 2.0316 - val_loss: 2246018.6520 - val_mse: 2246018.5000 - val_mae: 1459.7069\n",
      "Epoch 59/100\n",
      "404/404 [==============================] - 0s 197us/sample - loss: 8.3230 - mse: 8.3230 - mae: 2.0164 - val_loss: 2225800.7721 - val_mse: 2225800.7500 - val_mae: 1453.7794\n",
      "Epoch 60/100\n",
      "404/404 [==============================] - 0s 190us/sample - loss: 8.2911 - mse: 8.2911 - mae: 1.9951 - val_loss: 2258709.2966 - val_mse: 2258709.2500 - val_mae: 1463.2189\n",
      "Epoch 61/100\n",
      "404/404 [==============================] - 0s 212us/sample - loss: 8.2282 - mse: 8.2282 - mae: 2.0265 - val_loss: 2147038.6029 - val_mse: 2147038.5000 - val_mae: 1427.2952\n",
      "Epoch 62/100\n",
      "404/404 [==============================] - 0s 212us/sample - loss: 8.2612 - mse: 8.2612 - mae: 2.0019 - val_loss: 2227545.7181 - val_mse: 2227545.7500 - val_mae: 1453.3700\n",
      "Epoch 63/100\n",
      "404/404 [==============================] - 0s 227us/sample - loss: 8.2693 - mse: 8.2693 - mae: 2.0163 - val_loss: 2233314.7745 - val_mse: 2233315.0000 - val_mae: 1455.2506\n",
      "Epoch 64/100\n",
      "404/404 [==============================] - 0s 222us/sample - loss: 8.2446 - mse: 8.2446 - mae: 2.0232 - val_loss: 2178672.8995 - val_mse: 2178673.0000 - val_mae: 1437.0363\n",
      "Epoch 65/100\n",
      "404/404 [==============================] - 0s 239us/sample - loss: 8.1919 - mse: 8.1919 - mae: 2.0028 - val_loss: 2169447.5833 - val_mse: 2169447.5000 - val_mae: 1432.7415\n",
      "Epoch 66/100\n",
      "404/404 [==============================] - 0s 215us/sample - loss: 8.1760 - mse: 8.1760 - mae: 2.0174 - val_loss: 2173511.3358 - val_mse: 2173511.2500 - val_mae: 1435.3502\n",
      "Epoch 67/100\n",
      "404/404 [==============================] - 0s 212us/sample - loss: 8.2014 - mse: 8.2014 - mae: 2.0213 - val_loss: 2219318.1887 - val_mse: 2219318.0000 - val_mae: 1450.3862\n",
      "Epoch 68/100\n",
      "404/404 [==============================] - 0s 215us/sample - loss: 8.1258 - mse: 8.1258 - mae: 2.0050 - val_loss: 2194130.8701 - val_mse: 2194131.0000 - val_mae: 1442.5509\n",
      "Epoch 69/100\n",
      "404/404 [==============================] - 0s 264us/sample - loss: 8.0998 - mse: 8.0998 - mae: 1.9955 - val_loss: 2222762.6275 - val_mse: 2222762.7500 - val_mae: 1451.5908\n",
      "Epoch 70/100\n",
      "404/404 [==============================] - 0s 259us/sample - loss: 8.1389 - mse: 8.1389 - mae: 1.9832 - val_loss: 2205620.2745 - val_mse: 2205620.2500 - val_mae: 1445.9899\n",
      "Epoch 71/100\n",
      "404/404 [==============================] - 0s 205us/sample - loss: 8.1063 - mse: 8.1063 - mae: 1.9960 - val_loss: 2198815.5172 - val_mse: 2198815.5000 - val_mae: 1444.4946\n",
      "Epoch 72/100\n",
      "404/404 [==============================] - 0s 193us/sample - loss: 8.0310 - mse: 8.0310 - mae: 1.9942 - val_loss: 2195424.5907 - val_mse: 2195424.7500 - val_mae: 1442.9178\n",
      "Epoch 73/100\n",
      "404/404 [==============================] - 0s 188us/sample - loss: 8.0517 - mse: 8.0517 - mae: 1.9816 - val_loss: 2336270.4681 - val_mse: 2336270.2500 - val_mae: 1489.1508\n",
      "Epoch 74/100\n",
      "404/404 [==============================] - 0s 207us/sample - loss: 8.0223 - mse: 8.0223 - mae: 1.9923 - val_loss: 2271343.2892 - val_mse: 2271343.2500 - val_mae: 1467.4718\n",
      "Epoch 75/100\n",
      "404/404 [==============================] - 0s 237us/sample - loss: 8.0218 - mse: 8.0218 - mae: 1.9748 - val_loss: 2269676.3799 - val_mse: 2269676.5000 - val_mae: 1467.2883\n",
      "Epoch 76/100\n",
      "404/404 [==============================] - 0s 230us/sample - loss: 7.9919 - mse: 7.9919 - mae: 1.9871 - val_loss: 2279727.6422 - val_mse: 2279727.7500 - val_mae: 1470.4144\n",
      "Epoch 77/100\n",
      "404/404 [==============================] - 0s 247us/sample - loss: 7.9220 - mse: 7.9220 - mae: 1.9727 - val_loss: 2334815.6740 - val_mse: 2334815.7500 - val_mae: 1488.1351\n",
      "Epoch 78/100\n",
      "404/404 [==============================] - 0s 225us/sample - loss: 7.8431 - mse: 7.8431 - mae: 1.9973 - val_loss: 2213101.1005 - val_mse: 2213101.0000 - val_mae: 1448.8822\n",
      "Epoch 79/100\n",
      "404/404 [==============================] - 0s 217us/sample - loss: 7.9712 - mse: 7.9711 - mae: 1.9830 - val_loss: 2248971.0196 - val_mse: 2248970.7500 - val_mae: 1461.0919\n",
      "Epoch 80/100\n",
      "404/404 [==============================] - 0s 262us/sample - loss: 7.9310 - mse: 7.9310 - mae: 1.9807 - val_loss: 2214709.2010 - val_mse: 2214709.2500 - val_mae: 1449.1204\n",
      "Epoch 81/100\n",
      "404/404 [==============================] - 0s 249us/sample - loss: 7.9251 - mse: 7.9251 - mae: 1.9729 - val_loss: 2205601.3015 - val_mse: 2205601.5000 - val_mae: 1446.1864\n",
      "Epoch 82/100\n",
      "404/404 [==============================] - 0s 254us/sample - loss: 7.8394 - mse: 7.8394 - mae: 1.9688 - val_loss: 2158633.3848 - val_mse: 2158633.2500 - val_mae: 1430.8899\n",
      "Epoch 83/100\n",
      "404/404 [==============================] - 0s 190us/sample - loss: 7.8761 - mse: 7.8761 - mae: 1.9708 - val_loss: 2259183.5466 - val_mse: 2259183.7500 - val_mae: 1463.7195\n",
      "Epoch 84/100\n",
      "404/404 [==============================] - 0s 217us/sample - loss: 7.8239 - mse: 7.8239 - mae: 1.9624 - val_loss: 2312221.5882 - val_mse: 2312221.5000 - val_mae: 1481.5410\n",
      "Epoch 85/100\n",
      "404/404 [==============================] - 0s 207us/sample - loss: 7.7650 - mse: 7.7650 - mae: 1.9684 - val_loss: 2245049.8015 - val_mse: 2245050.0000 - val_mae: 1461.0452\n",
      "Epoch 86/100\n",
      "404/404 [==============================] - 0s 294us/sample - loss: 7.8123 - mse: 7.8123 - mae: 1.9445 - val_loss: 2281785.8186 - val_mse: 2281785.5000 - val_mae: 1472.3842\n",
      "Epoch 87/100\n",
      "404/404 [==============================] - 0s 217us/sample - loss: 7.7184 - mse: 7.7184 - mae: 1.9404 - val_loss: 2292821.7941 - val_mse: 2292821.7500 - val_mae: 1475.9645\n",
      "Epoch 88/100\n",
      "404/404 [==============================] - 0s 222us/sample - loss: 7.7702 - mse: 7.7702 - mae: 1.9488 - val_loss: 2321641.3456 - val_mse: 2321641.5000 - val_mae: 1485.9818\n",
      "Epoch 89/100\n",
      "404/404 [==============================] - 0s 185us/sample - loss: 7.7224 - mse: 7.7224 - mae: 1.9512 - val_loss: 2223830.4314 - val_mse: 2223830.5000 - val_mae: 1452.9004\n",
      "Epoch 90/100\n",
      "404/404 [==============================] - 0s 205us/sample - loss: 7.7544 - mse: 7.7544 - mae: 1.9530 - val_loss: 2306330.0564 - val_mse: 2306330.0000 - val_mae: 1479.5693\n",
      "Epoch 91/100\n",
      "404/404 [==============================] - 0s 185us/sample - loss: 7.6884 - mse: 7.6884 - mae: 1.9449 - val_loss: 2251362.5564 - val_mse: 2251362.7500 - val_mae: 1461.3905\n",
      "Epoch 92/100\n",
      "404/404 [==============================] - 0s 195us/sample - loss: 7.6752 - mse: 7.6752 - mae: 1.9368 - val_loss: 2255346.3064 - val_mse: 2255346.2500 - val_mae: 1463.3473\n",
      "Epoch 93/100\n",
      "404/404 [==============================] - 0s 193us/sample - loss: 7.6786 - mse: 7.6786 - mae: 1.9265 - val_loss: 2272990.5392 - val_mse: 2272990.5000 - val_mae: 1469.1113\n",
      "Epoch 94/100\n",
      "404/404 [==============================] - 0s 252us/sample - loss: 7.6466 - mse: 7.6466 - mae: 1.9355 - val_loss: 2306270.8922 - val_mse: 2306270.7500 - val_mae: 1479.6957\n",
      "Epoch 95/100\n",
      "404/404 [==============================] - 0s 198us/sample - loss: 7.6122 - mse: 7.6122 - mae: 1.9363 - val_loss: 2273676.1373 - val_mse: 2273676.0000 - val_mae: 1468.5922\n",
      "Epoch 96/100\n",
      "404/404 [==============================] - 0s 232us/sample - loss: 7.6012 - mse: 7.6012 - mae: 1.9397 - val_loss: 2251293.2574 - val_mse: 2251293.2500 - val_mae: 1461.1729\n",
      "Epoch 97/100\n",
      "404/404 [==============================] - 0s 249us/sample - loss: 7.5956 - mse: 7.5956 - mae: 1.9288 - val_loss: 2271625.4142 - val_mse: 2271625.5000 - val_mae: 1467.5229\n",
      "Epoch 98/100\n",
      "404/404 [==============================] - 0s 244us/sample - loss: 7.5419 - mse: 7.5419 - mae: 1.9316 - val_loss: 2303224.8603 - val_mse: 2303224.7500 - val_mae: 1478.3129\n",
      "Epoch 99/100\n",
      "404/404 [==============================] - 0s 252us/sample - loss: 7.5894 - mse: 7.5894 - mae: 1.9321 - val_loss: 2323271.4657 - val_mse: 2323271.2500 - val_mae: 1484.7638\n",
      "Epoch 100/100\n",
      "404/404 [==============================] - 0s 222us/sample - loss: 7.5065 - mse: 7.5065 - mae: 1.9255 - val_loss: 2284076.2083 - val_mse: 2284076.2500 - val_mae: 1471.8846\n"
     ]
    }
   ],
   "source": [
    "model1.compile(loss='mse', optimizer='rmsprop', metrics=['mse', 'mae'])\n",
    "\n",
    "history = model.fit(X_train_scaled, y_train, validation_data=(X_test, y_test), epochs=100, batch_size =10, callbacks=[tensorboard_callback])"
   ]
  },
  {
   "cell_type": "code",
   "execution_count": 45,
   "metadata": {},
   "outputs": [],
   "source": [
    "# import pydot \n",
    "# from IPython.display import SVG\n",
    "\n",
    "# tf.keras.utils.plot_model(model1, \"my_first_model.png\")"
   ]
  },
  {
   "cell_type": "code",
   "execution_count": 27,
   "metadata": {},
   "outputs": [],
   "source": [
    "# tf.keras.utils.plot_model(model, \"my_first_model_with_shape_info.png\", show_shapes=True)"
   ]
  },
  {
   "cell_type": "markdown",
   "metadata": {
    "colab_type": "text",
    "id": "SfcFnOONyuNm"
   },
   "source": [
    "## Use the Keras Library to build an image recognition network using the Fashion-MNIST dataset (also comes with keras)\n",
    "\n",
    "- Load and preprocess the image data similar to how we preprocessed the MNIST data in class.\n",
    "- Make sure to one-hot encode your category labels\n",
    "- The number of nodes in your output layer should equal the number of classes you want to predict for Fashion-MNIST.\n",
    "- Try different hyperparameters. What is the highest accuracy that you are able to achieve.\n",
    "- Use the history object that is returned from model.fit to make graphs of the model's loss or train/validation accuracies by epoch. \n",
    "- Remember that neural networks fall prey to randomness so you may need to run your model multiple times (or use Cross Validation) in order to tell if a change to a hyperparameter is truly producing better results."
   ]
  },
  {
   "cell_type": "code",
   "execution_count": 48,
   "metadata": {},
   "outputs": [],
   "source": [
    "from tensorflow.keras.datasets import mnist"
   ]
  },
  {
   "cell_type": "code",
   "execution_count": 52,
   "metadata": {},
   "outputs": [
    {
     "data": {
      "text/plain": [
       "'C:\\\\Users\\\\Khisl\\\\Desktop\\\\Projects\\\\DS-Unit-4-Sprint-2-Neural-Networks\\\\module3-Intro-to-Keras'"
      ]
     },
     "execution_count": 52,
     "metadata": {},
     "output_type": "execute_result"
    }
   ],
   "source": [
    "%pwd"
   ]
  },
  {
   "cell_type": "code",
   "execution_count": 58,
   "metadata": {},
   "outputs": [],
   "source": [
    "(X_train, y_train), (X_test, y_test) = mnist.load_data()"
   ]
  },
  {
   "cell_type": "code",
   "execution_count": 59,
   "metadata": {
    "colab": {},
    "colab_type": "code",
    "id": "szi6-IpuzaH1"
   },
   "outputs": [
    {
     "data": {
      "text/plain": [
       "(60000, 28, 28)"
      ]
     },
     "execution_count": 59,
     "metadata": {},
     "output_type": "execute_result"
    }
   ],
   "source": [
    "X_train.shape"
   ]
  },
  {
   "cell_type": "code",
   "execution_count": 78,
   "metadata": {},
   "outputs": [
    {
     "name": "stdout",
     "output_type": "stream",
     "text": [
      "The tensorboard extension is already loaded. To reload it, use:\n",
      "  %reload_ext tensorboard\n"
     ]
    }
   ],
   "source": [
    "%load_ext tensorboard\n",
    "import os, datetime\n",
    "import tensorflow as tf\n",
    "\n",
    "logdir = os.path.join('logs1', datetime.datetime.now().strftime(\"%Y%m%d-%H%M%S\"))\n",
    "tensorboard_callback = tf.keras.callbacks.TensorBoard(logdir, histogram_freq=1)"
   ]
  },
  {
   "cell_type": "code",
   "execution_count": 79,
   "metadata": {},
   "outputs": [
    {
     "data": {
      "text/plain": [
       "array([5, 0, 4, ..., 5, 6, 8], dtype=uint8)"
      ]
     },
     "execution_count": 79,
     "metadata": {},
     "output_type": "execute_result"
    }
   ],
   "source": [
    "y_train # the numbers are not one-hot encoded, that's why we need to either one-hot encode them \n",
    "\n",
    "# OR use a sparse_categorical_crossentropy instead of categorical_crossentropy"
   ]
  },
  {
   "cell_type": "code",
   "execution_count": 86,
   "metadata": {},
   "outputs": [
    {
     "name": "stdout",
     "output_type": "stream",
     "text": [
      "Train on 60000 samples, validate on 10000 samples\n",
      "Epoch 1/10\n",
      "60000/60000 [==============================] - 3s 53us/sample - loss: 10.0448 - accuracy: 0.8400 - val_loss: 5.5270 - val_accuracy: 0.8859\n",
      "Epoch 2/10\n",
      "60000/60000 [==============================] - 3s 50us/sample - loss: 6.1470 - accuracy: 0.8781 - val_loss: 6.4055 - val_accuracy: 0.8607\n",
      "Epoch 3/10\n",
      "60000/60000 [==============================] - 3s 58us/sample - loss: 5.7185 - accuracy: 0.8824 - val_loss: 5.9373 - val_accuracy: 0.8914\n",
      "Epoch 4/10\n",
      "60000/60000 [==============================] - 3s 50us/sample - loss: 5.4996 - accuracy: 0.8857 - val_loss: 5.8653 - val_accuracy: 0.8811\n",
      "Epoch 5/10\n",
      "60000/60000 [==============================] - 3s 50us/sample - loss: 5.4368 - accuracy: 0.8867 - val_loss: 5.8743 - val_accuracy: 0.8903\n",
      "Epoch 6/10\n",
      "60000/60000 [==============================] - 3s 50us/sample - loss: 5.3522 - accuracy: 0.8878 - val_loss: 6.5059 - val_accuracy: 0.8757\n",
      "Epoch 7/10\n",
      "60000/60000 [==============================] - 3s 49us/sample - loss: 5.3447 - accuracy: 0.8885 - val_loss: 5.5989 - val_accuracy: 0.8973\n",
      "Epoch 8/10\n",
      "60000/60000 [==============================] - 3s 50us/sample - loss: 5.2352 - accuracy: 0.8898 - val_loss: 6.0341 - val_accuracy: 0.8909\n",
      "Epoch 9/10\n",
      "60000/60000 [==============================] - 3s 49us/sample - loss: 5.1685 - accuracy: 0.8895 - val_loss: 5.6237 - val_accuracy: 0.8995\n",
      "Epoch 10/10\n",
      "60000/60000 [==============================] - 3s 49us/sample - loss: 5.2878 - accuracy: 0.8903 - val_loss: 5.9070 - val_accuracy: 0.8878\n"
     ]
    },
    {
     "data": {
      "text/plain": [
       "<tensorflow.python.keras.callbacks.History at 0x21017090188>"
      ]
     },
     "execution_count": 86,
     "metadata": {},
     "output_type": "execute_result"
    }
   ],
   "source": [
    "from tensorflow.keras.models import Sequential\n",
    "from tensorflow.keras.layers import Flatten, Dense\n",
    "\n",
    "model = Sequential([\n",
    "    Flatten(input_shape=(28, 28)), # We are flattening our images because right now they have a square shape 28x28 pixels\n",
    "    Dense(10, activation='softmax')\n",
    "])\n",
    "\n",
    "model.compile(loss='sparse_categorical_crossentropy', optimizer='adam', metrics=['accuracy'])\n",
    "\n",
    "model.fit(x = X_train,\n",
    "         y = y_train,\n",
    "         epochs = 10,\n",
    "         validation_data=(X_test, y_test),\n",
    "         callbacks = [tensorboard_callback])\n",
    "\n",
    "# callbacks: at the end of each epoch, it collects data that we want to be monitored: accuracy score, loss number for both \n",
    "# training and validation data \n"
   ]
  },
  {
   "cell_type": "code",
   "execution_count": 87,
   "metadata": {},
   "outputs": [
    {
     "data": {
      "text/plain": [
       "Reusing TensorBoard on port 6006 (pid 24680), started 0:04:28 ago. (Use '!kill 24680' to kill it.)"
      ]
     },
     "metadata": {},
     "output_type": "display_data"
    },
    {
     "data": {
      "text/html": [
       "\n",
       "      <iframe id=\"tensorboard-frame-3d428e837382339e\" width=\"100%\" height=\"800\" frameborder=\"0\">\n",
       "      </iframe>\n",
       "      <script>\n",
       "        (function() {\n",
       "          const frame = document.getElementById(\"tensorboard-frame-3d428e837382339e\");\n",
       "          const url = new URL(\"/\", window.location);\n",
       "          url.port = 6006;\n",
       "          frame.src = url;\n",
       "        })();\n",
       "      </script>\n",
       "  "
      ],
      "text/plain": [
       "<IPython.core.display.HTML object>"
      ]
     },
     "metadata": {},
     "output_type": "display_data"
    }
   ],
   "source": [
    "%tensorboard --logdir logs1"
   ]
  },
  {
   "cell_type": "code",
   "execution_count": 103,
   "metadata": {},
   "outputs": [
    {
     "name": "stdout",
     "output_type": "stream",
     "text": [
      "Train on 60000 samples, validate on 10000 samples\n",
      "Epoch 1/10\n",
      "60000/60000 [==============================] - 5s 77us/sample - loss: 1.7481 - accuracy: 0.8739 - val_loss: 0.5123 - val_accuracy: 0.9199\n",
      "Epoch 2/10\n",
      "60000/60000 [==============================] - 4s 69us/sample - loss: 0.4229 - accuracy: 0.9313 - val_loss: 0.3987 - val_accuracy: 0.9404\n",
      "Epoch 3/10\n",
      "60000/60000 [==============================] - 4s 73us/sample - loss: 0.2930 - accuracy: 0.9448 - val_loss: 0.2748 - val_accuracy: 0.9395\n",
      "Epoch 4/10\n",
      "60000/60000 [==============================] - 5s 77us/sample - loss: 0.2585 - accuracy: 0.9533 - val_loss: 0.3074 - val_accuracy: 0.9550\n",
      "Epoch 5/10\n",
      "60000/60000 [==============================] - 4s 72us/sample - loss: 0.2560 - accuracy: 0.9553 - val_loss: 0.3031 - val_accuracy: 0.9494\n",
      "Epoch 6/10\n",
      "60000/60000 [==============================] - 4s 70us/sample - loss: 0.2645 - accuracy: 0.9572 - val_loss: 0.3298 - val_accuracy: 0.9566\n",
      "Epoch 7/10\n",
      "60000/60000 [==============================] - 4s 71us/sample - loss: 0.2569 - accuracy: 0.9578 - val_loss: 0.4276 - val_accuracy: 0.9447\n"
     ]
    }
   ],
   "source": [
    "import numpy\n",
    "import pandas as pd\n",
    "from tensorflow.keras.wrappers.scikit_learn import KerasClassifier\n",
    "from tensorflow.keras.callbacks import EarlyStopping\n",
    "\n",
    "\n",
    "logdir = os.path.join(\"logs\", \"Additional layers, different optimizer, more callbacks\") \n",
    "tensorboard_callback = tf.keras.callbacks.TensorBoard(logdir, histogram_freq=1)\n",
    "\n",
    "\n",
    "# Start neural network\n",
    "model = Sequential([Flatten(input_shape=(28,28)),\n",
    "                    Dense(units=116, activation='relu'),\n",
    "                    Dense(units=120, activation='relu'),\n",
    "                    Dense(units=10, activation='softmax')])\n",
    "\n",
    "stop = EarlyStopping(monitor='val_accuracy', min_delta=0.01, patience=3, mode='auto')\n",
    "\n",
    "model.compile(loss='sparse_categorical_crossentropy', optimizer='rmsprop', metrics=['accuracy'])\n",
    "\n",
    "history = model.fit(x=X_train, \n",
    "          y=y_train,\n",
    "          validation_data=(X_test, y_test),\n",
    "          epochs=10,\n",
    "          callbacks = [tensorboard_callback, stop])\n"
   ]
  },
  {
   "cell_type": "code",
   "execution_count": 111,
   "metadata": {},
   "outputs": [
    {
     "data": {
      "text/plain": [
       "{'loss': [1.748103905106996,\n",
       "  0.42286932041484443,\n",
       "  0.29296286603430444,\n",
       "  0.25847953067864293,\n",
       "  0.25600925401390606,\n",
       "  0.26445933632811064,\n",
       "  0.2568932819607459],\n",
       " 'accuracy': [0.8738667,\n",
       "  0.93128335,\n",
       "  0.94476664,\n",
       "  0.9533333,\n",
       "  0.95533335,\n",
       "  0.9572,\n",
       "  0.95776665],\n",
       " 'val_loss': [0.5123068806140131,\n",
       "  0.39865211341156975,\n",
       "  0.27482241984815337,\n",
       "  0.3074018521786784,\n",
       "  0.30313292219445576,\n",
       "  0.3298278369130101,\n",
       "  0.42758461901836564],\n",
       " 'val_accuracy': [0.9199, 0.9404, 0.9395, 0.955, 0.9494, 0.9566, 0.9447]}"
      ]
     },
     "execution_count": 111,
     "metadata": {},
     "output_type": "execute_result"
    }
   ],
   "source": [
    "history.history"
   ]
  },
  {
   "cell_type": "code",
   "execution_count": 116,
   "metadata": {},
   "outputs": [
    {
     "data": {
      "text/plain": [
       "dict_keys(['loss', 'accuracy', 'val_loss', 'val_accuracy'])"
      ]
     },
     "execution_count": 116,
     "metadata": {},
     "output_type": "execute_result"
    }
   ],
   "source": [
    "history.history.keys()"
   ]
  },
  {
   "cell_type": "code",
   "execution_count": 118,
   "metadata": {},
   "outputs": [
    {
     "data": {
      "image/png": "[encoded data removed]",
      "text/plain": [
       "<Figure size 432x288 with 1 Axes>"
      ]
     },
     "metadata": {
      "needs_background": "light"
     },
     "output_type": "display_data"
    }
   ],
   "source": [
    "import matplotlib.pyplot as plt\n",
    "# Plot history\n",
    "plt.plot(history.history['loss'], label='Loss (training data)')\n",
    "plt.plot(history.history['val_loss'], label='Loss (validation data)')\n",
    "plt.title('Train/Validation Loss by Epoch')\n",
    "plt.ylabel('Loss value')\n",
    "plt.xlabel('No. epoch')\n",
    "plt.legend(loc=\"upper left\")\n",
    "plt.show()"
   ]
  },
  {
   "cell_type": "code",
   "execution_count": 119,
   "metadata": {},
   "outputs": [
    {
     "data": {
      "image/png": "[encoded data removed]",
      "text/plain": [
       "<Figure size 432x288 with 1 Axes>"
      ]
     },
     "metadata": {
      "needs_background": "light"
     },
     "output_type": "display_data"
    }
   ],
   "source": [
    "import matplotlib.pyplot as plt\n",
    "# Plot history\n",
    "plt.plot(history.history['accuracy'], label='Accuracy (training data)')\n",
    "plt.plot(history.history['val_accuracy'], label='Accuracy (validation data)')\n",
    "plt.title('Train/Validation Accuracy by Epoch')\n",
    "plt.ylabel('Accuracy value')\n",
    "plt.xlabel('No. epoch')\n",
    "plt.legend(loc=\"upper left\")\n",
    "plt.show()"
   ]
  },
  {
   "cell_type": "code",
   "execution_count": 102,
   "metadata": {},
   "outputs": [
    {
     "data": {
      "text/plain": [
       "Reusing TensorBoard on port 6006 (pid 24680), started 3:15:08 ago. (Use '!kill 24680' to kill it.)"
      ]
     },
     "metadata": {},
     "output_type": "display_data"
    },
    {
     "data": {
      "text/html": [
       "\n",
       "      <iframe id=\"tensorboard-frame-ffa821b7f08bae64\" width=\"100%\" height=\"800\" frameborder=\"0\">\n",
       "      </iframe>\n",
       "      <script>\n",
       "        (function() {\n",
       "          const frame = document.getElementById(\"tensorboard-frame-ffa821b7f08bae64\");\n",
       "          const url = new URL(\"/\", window.location);\n",
       "          url.port = 6006;\n",
       "          frame.src = url;\n",
       "        })();\n",
       "      </script>\n",
       "  "
      ],
      "text/plain": [
       "<IPython.core.display.HTML object>"
      ]
     },
     "metadata": {},
     "output_type": "display_data"
    }
   ],
   "source": [
    "%tensorboard --logdir logs1"
   ]
  },
  {
   "cell_type": "markdown",
   "metadata": {
    "colab_type": "text",
    "id": "zv_3xNMjzdLI"
   },
   "source": [
    "## Stretch Goals:\n",
    "\n",
    "- Use Hyperparameter Tuning to make the accuracy of your models as high as possible. (error as low as possible)\n",
    "- Use Cross Validation techniques to get more consistent results with your model.\n",
    "- Use GridSearchCV to try different combinations of hyperparameters. \n",
    "- Start looking into other types of Keras layers for CNNs and RNNs maybe try and build a CNN model for fashion-MNIST to see how the results compare."
   ]
  }
 ],
 "metadata": {
  "colab": {
   "name": "LS_DS_433_Keras_Assignment.ipynb",
   "provenance": [],
   "version": "0.3.2"
  },
  "kernelspec": {
   "display_name": "Python 3",
   "language": "python",
   "name": "python3"
  },
  "language_info": {
   "codemirror_mode": {
    "name": "ipython",
    "version": 3
   },
   "file_extension": ".py",
   "mimetype": "text/x-python",
   "name": "python",
   "nbconvert_exporter": "python",
   "pygments_lexer": "ipython3",
   "version": "3.7.8"
  }
 },
 "nbformat": 4,
 "nbformat_minor": 4
}
